{
 "cells": [
  {
   "attachments": {},
   "cell_type": "markdown",
   "metadata": {},
   "source": [
    "### Laboratorio #2"
   ]
  },
  {
   "attachments": {},
   "cell_type": "markdown",
   "metadata": {},
   "source": [
    "### Problema#1"
   ]
  },
  {
   "cell_type": "code",
   "execution_count": 1,
   "metadata": {},
   "outputs": [
    {
     "name": "stdout",
     "output_type": "stream",
     "text": [
      "1:37:51\n"
     ]
    }
   ],
   "source": [
    "def convert(seconds):\n",
    "    seconds = seconds % (24 * 3600)\n",
    "    hour = seconds // 3600\n",
    "    seconds %= 3600\n",
    "    minutes = seconds // 60\n",
    "    seconds %= 60\n",
    "      \n",
    "    return \"%d:%02d:%02d\" % (hour, minutes, seconds)\n",
    "n = 5871\n",
    "print(convert(n))"
   ]
  },
  {
   "attachments": {},
   "cell_type": "markdown",
   "metadata": {},
   "source": [
    "### Problema#2"
   ]
  },
  {
   "cell_type": "code",
   "execution_count": 2,
   "metadata": {},
   "outputs": [
    {
     "name": "stdout",
     "output_type": "stream",
     "text": [
      "*\n",
      "**\n",
      "***\n",
      "****\n"
     ]
    }
   ],
   "source": [
    "def histograma(elementos):\n",
    "    for n in elementos: \n",
    "        salida = ''\n",
    "        estrellas = n \n",
    "        while ( estrellas > 0 ): \n",
    "          salida += '*'\n",
    "          estrellas = estrellas - 1 \n",
    "        print(salida)\n",
    "\n",
    "histograma ([1,2,3,4])"
   ]
  },
  {
   "attachments": {},
   "cell_type": "markdown",
   "metadata": {},
   "source": [
    "### Problema#3"
   ]
  },
  {
   "cell_type": "code",
   "execution_count": 3,
   "metadata": {},
   "outputs": [
    {
     "name": "stdout",
     "output_type": "stream",
     "text": [
      "34 años, 7 meses y 5 días\n"
     ]
    }
   ],
   "source": [
    "from datetime import datetime\n",
    "from dateutil.relativedelta import relativedelta\n",
    "\n",
    "edad = relativedelta(datetime.now(), datetime(1988, 7, 28))\n",
    "print(f\"{edad.years} años, {edad.months} meses y {edad.days} días\")"
   ]
  },
  {
   "attachments": {},
   "cell_type": "markdown",
   "metadata": {},
   "source": [
    "### Problema#4"
   ]
  },
  {
   "cell_type": "code",
   "execution_count": 4,
   "metadata": {},
   "outputs": [
    {
     "name": "stdout",
     "output_type": "stream",
     "text": [
      "Irma\n"
     ]
    }
   ],
   "source": [
    "def convertTuple(tup):\n",
    "    str = ''\n",
    "    for item in tup:\n",
    "        str = str + item\n",
    "    return str\n",
    " \n",
    "tuple = ('I', 'r', 'm', 'a')\n",
    "str = convertTuple(tuple)\n",
    "print(str)\n"
   ]
  },
  {
   "attachments": {},
   "cell_type": "markdown",
   "metadata": {},
   "source": [
    "### Problema#5"
   ]
  },
  {
   "cell_type": "code",
   "execution_count": 6,
   "metadata": {},
   "outputs": [
    {
     "name": "stdout",
     "output_type": "stream",
     "text": [
      "[(), (), ('X',), ('a', 'b'), ('a', 'b', 'c'), 'd']\n",
      "6\n",
      "\n",
      "[('X',), ('a', 'b'), ('a', 'b', 'c'), 'd']\n",
      "4\n"
     ]
    }
   ],
   "source": [
    "tuplas = [(), (), ('X',), ('a', 'b'), ('a', 'b', 'c'), ('d')]\n",
    "\n",
    "print(tuplas)\n",
    "print(len(tuplas))\n",
    "\n",
    "print()\n",
    "\n",
    "tuplas = [t for t in tuplas if t]\n",
    "\n",
    "print(tuplas)\n",
    "print(len(tuplas))"
   ]
  },
  {
   "attachments": {},
   "cell_type": "markdown",
   "metadata": {},
   "source": [
    "### Problema#6"
   ]
  },
  {
   "cell_type": "code",
   "execution_count": 7,
   "metadata": {},
   "outputs": [
    {
     "name": "stdout",
     "output_type": "stream",
     "text": [
      "[(10, 10, 10, 12), (30, 45, 56, 45), (81, 80, 39, 32)]\n",
      "10.5\n",
      "44.0\n",
      "58.0\n"
     ]
    }
   ],
   "source": [
    "tupla = ((10, 10, 10, 12), (30, 45, 56, 45), (81, 80, 39, 32))\n",
    "lista = list(tupla)\n",
    "print(lista)\n",
    "\n",
    "data = [10, 10, 10, 12]\n",
    "mean = sum(data)/len(data)\n",
    "print(mean)\n",
    "\n",
    "data = (30, 45, 56, 45)\n",
    "mean = sum(data)/len(data)\n",
    "print(mean)\n",
    "\n",
    "data = (81, 80, 39, 32)\n",
    "mean = sum(data)/len(data)\n",
    "print(mean)"
   ]
  },
  {
   "attachments": {},
   "cell_type": "markdown",
   "metadata": {},
   "source": [
    "### Problema#7"
   ]
  },
  {
   "cell_type": "code",
   "execution_count": null,
   "metadata": {},
   "outputs": [],
   "source": [
    "facturas = {}\n",
    "cobrado = 0\n",
    "pendiente = 0\n",
    "more = ''\n",
    "while more != 'T':\n",
    "    if more == 'A':\n",
    "        clave = input('número de la factura: ')\n",
    "        coste = float(input('monto de la factura: '))\n",
    "        facturas[clave] = coste\n",
    "        pendiente += coste\n",
    "    if more == 'P':\n",
    "        clave = input('número de la factura a pagar: ')\n",
    "        coste = facturas.pop(clave, 0)\n",
    "        cobrado += coste\n",
    "        pendiente -= coste\n",
    "    print('Cobrado:', cobrado)\n",
    "    print('Pendiente de cobro: ', pendiente)\n",
    "    more = input('¿Quieres añadir una nueva factura (A), pagarla (P) o finalizada (F)? ')"
   ]
  },
  {
   "attachments": {},
   "cell_type": "markdown",
   "metadata": {},
   "source": [
    "### Problema#8"
   ]
  },
  {
   "cell_type": "code",
   "execution_count": 10,
   "metadata": {},
   "outputs": [],
   "source": [
    "tipos = ['C','P','E','T']\n",
    "numeros = list(range(1,14,1))"
   ]
  },
  {
   "cell_type": "code",
   "execution_count": null,
   "metadata": {},
   "outputs": [],
   "source": [
    "for tipo in tipos: \n",
    "  print(tipo)\n",
    "  for numero in numeros:\n",
    "    print (numero)"
   ]
  },
  {
   "cell_type": "code",
   "execution_count": 29,
   "metadata": {},
   "outputs": [],
   "source": [
    "def create_pocker():\n",
    "   tipos = ['C','P','E','T']\n",
    "   numeros = list(range(1,14,1))\n",
    "\n",
    "   baraja = []\n",
    "   for tipo in tipos:\n",
    "       for numero in numeros: \n",
    "           carta = tipo+str(numero)\n",
    "           baraja.append(carta)\n",
    "    \n",
    "   return baraja"
   ]
  },
  {
   "cell_type": "code",
   "execution_count": 35,
   "metadata": {},
   "outputs": [
    {
     "data": {
      "text/plain": [
       "<function __main__.create_pocker()>"
      ]
     },
     "execution_count": 35,
     "metadata": {},
     "output_type": "execute_result"
    }
   ],
   "source": [
    "baraja=create_pocker\n",
    "baraja"
   ]
  }
 ],
 "metadata": {
  "kernelspec": {
   "display_name": "clasemiercoles",
   "language": "python",
   "name": "python3"
  },
  "language_info": {
   "codemirror_mode": {
    "name": "ipython",
    "version": 3
   },
   "file_extension": ".py",
   "mimetype": "text/x-python",
   "name": "python",
   "nbconvert_exporter": "python",
   "pygments_lexer": "ipython3",
   "version": "3.8.16"
  },
  "orig_nbformat": 4
 },
 "nbformat": 4,
 "nbformat_minor": 2
}
